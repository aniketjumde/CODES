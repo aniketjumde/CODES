{
 "cells": [
  {
   "cell_type": "code",
   "execution_count": null,
   "id": "56815a98-0ab1-454b-8069-02d1096ca506",
   "metadata": {},
   "outputs": [],
   "source": [
    "#Tuple is Sequence data type\n",
    "# Homogeneous and Heterogeneous"
   ]
  },
  {
   "cell_type": "code",
   "execution_count": 1,
   "id": "8f684fab-133b-4d72-9551-14dacd332e4d",
   "metadata": {},
   "outputs": [
    {
     "name": "stdout",
     "output_type": "stream",
     "text": [
      "(11, 22, 33, 44, 55, 66, 77, 88, 99)\n",
      "<class 'tuple'>\n",
      "2827610510768\n",
      "(11, 22, 'A', 'Pradeep', None)\n",
      "<class 'tuple'>\n",
      "2827610525104\n"
     ]
    }
   ],
   "source": [
    "t=(11,22,33,44,55,66,77,88,99)  #Homogeneous\n",
    "print(t)\n",
    "print(type(t))\n",
    "print(id(t))\n",
    "t=(11,22,\"A\",\"Pradeep\",None)  #Heterogeneous\n",
    "print(t)\n",
    "print(type(t))\n",
    "print(id(t))"
   ]
  },
  {
   "cell_type": "code",
   "execution_count": null,
   "id": "0841a198-1d26-4745-948c-7bc17d1171ca",
   "metadata": {},
   "outputs": [],
   "source": [
    " L = [11,22,33]\n",
    " L.reverse()\n",
    " print(L)"
   ]
  },
  {
   "cell_type": "code",
   "execution_count": null,
   "id": "b7e8005d-c9a9-4d0f-ab97-75cb8bfd3ae0",
   "metadata": {},
   "outputs": [],
   "source": []
  },
  {
   "cell_type": "code",
   "execution_count": 2,
   "id": "a19ba5a4-29ec-430b-8952-bde50a128517",
   "metadata": {},
   "outputs": [
    {
     "name": "stdout",
     "output_type": "stream",
     "text": [
      "[11, 33, 55]\n"
     ]
    }
   ],
   "source": [
    " L = [33,55,11]\n",
    " L.sort()\n",
    " print(L)"
   ]
  },
  {
   "cell_type": "code",
   "execution_count": 3,
   "id": "5257a05a-549e-4f40-b3c1-1d52edb1555a",
   "metadata": {},
   "outputs": [
    {
     "ename": "AttributeError",
     "evalue": "'tuple' object has no attribute 'sort'",
     "output_type": "error",
     "traceback": [
      "\u001b[1;31m---------------------------------------------------------------------------\u001b[0m",
      "\u001b[1;31mAttributeError\u001b[0m                            Traceback (most recent call last)",
      "Cell \u001b[1;32mIn[3], line 2\u001b[0m\n\u001b[0;32m      1\u001b[0m T\u001b[38;5;241m=\u001b[39m(\u001b[38;5;241m11\u001b[39m,\u001b[38;5;241m22\u001b[39m,\u001b[38;5;241m33\u001b[39m)\n\u001b[1;32m----> 2\u001b[0m \u001b[43mT\u001b[49m\u001b[38;5;241;43m.\u001b[39;49m\u001b[43msort\u001b[49m()\n\u001b[0;32m      3\u001b[0m \u001b[38;5;28mprint\u001b[39m(T)\n",
      "\u001b[1;31mAttributeError\u001b[0m: 'tuple' object has no attribute 'sort'"
     ]
    }
   ],
   "source": [
    "T=(11,22,33)\n",
    "T.sort()\n",
    "print(T)"
   ]
  },
  {
   "cell_type": "code",
   "execution_count": null,
   "id": "bec15e9a-99c0-422a-bf56-bcd03e81e91d",
   "metadata": {},
   "outputs": [],
   "source": []
  },
  {
   "cell_type": "code",
   "execution_count": null,
   "id": "45ede2f0-ecf2-4018-a575-c1a6bcccde03",
   "metadata": {},
   "outputs": [],
   "source": []
  },
  {
   "cell_type": "code",
   "execution_count": null,
   "id": "d2a2c814-691c-416e-a857-46b532b49f12",
   "metadata": {},
   "outputs": [],
   "source": []
  }
 ],
 "metadata": {
  "kernelspec": {
   "display_name": "Python 3 (ipykernel)",
   "language": "python",
   "name": "python3"
  },
  "language_info": {
   "codemirror_mode": {
    "name": "ipython",
    "version": 3
   },
   "file_extension": ".py",
   "mimetype": "text/x-python",
   "name": "python",
   "nbconvert_exporter": "python",
   "pygments_lexer": "ipython3",
   "version": "3.12.4"
  }
 },
 "nbformat": 4,
 "nbformat_minor": 5
}
